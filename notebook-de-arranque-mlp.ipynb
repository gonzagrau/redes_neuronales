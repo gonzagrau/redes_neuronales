{
 "cells": [
  {
   "cell_type": "code",
   "execution_count": 68,
   "id": "3d533d89",
   "metadata": {
    "ExecuteTime": {
     "end_time": "2024-10-26T20:33:38.315825Z",
     "start_time": "2024-10-26T20:33:36.575260Z"
    },
    "_cell_guid": "b1076dfc-b9ad-4769-8c92-a6c4dae69d19",
    "_uuid": "8f2839f25d086af736a60e9eeb907d3b93b6e0e5",
    "execution": {
     "iopub.execute_input": "2024-10-15T15:26:50.700230Z",
     "iopub.status.busy": "2024-10-15T15:26:50.699767Z",
     "iopub.status.idle": "2024-10-15T15:26:51.650956Z",
     "shell.execute_reply": "2024-10-15T15:26:51.649511Z"
    },
    "papermill": {
     "duration": 0.966766,
     "end_time": "2024-10-15T15:26:51.653774",
     "exception": false,
     "start_time": "2024-10-15T15:26:50.687008",
     "status": "completed"
    },
    "tags": []
   },
   "outputs": [
    {
     "name": "stdout",
     "output_type": "stream",
     "text": [
      "The tensorboard extension is already loaded. To reload it, use:\n",
      "  %reload_ext tensorboard\n"
     ]
    }
   ],
   "source": [
    "import numpy as np # linear algebra\n",
    "import pandas as pd # data processing, CSV file I/O (e.g. pd.read_csv)\n",
    "from matplotlib import pyplot as plt\n",
    "%load_ext tensorboard"
   ]
  },
  {
   "cell_type": "code",
   "execution_count": 69,
   "id": "6df7d172",
   "metadata": {
    "ExecuteTime": {
     "end_time": "2024-10-26T20:33:46.112736Z",
     "start_time": "2024-10-26T20:33:41.644230Z"
    },
    "execution": {
     "iopub.execute_input": "2024-10-15T15:26:51.676585Z",
     "iopub.status.busy": "2024-10-15T15:26:51.675939Z",
     "iopub.status.idle": "2024-10-15T15:26:54.066513Z",
     "shell.execute_reply": "2024-10-15T15:26:54.065414Z"
    },
    "papermill": {
     "duration": 2.40501,
     "end_time": "2024-10-15T15:26:54.069360",
     "exception": false,
     "start_time": "2024-10-15T15:26:51.664350",
     "status": "completed"
    },
    "tags": []
   },
   "outputs": [],
   "source": [
    "x_train = np.load(\"dataset/x_train.npy\")/255.\n",
    "x_test = np.load(\"dataset/x_test.npy\")/255.\n",
    "y_train_coarse = np.load(\"dataset/y_train_coarse.npy\")\n",
    "y_train_fine = np.load(\"dataset/y_train_fine.npy\")"
   ]
  },
  {
   "cell_type": "code",
   "execution_count": 70,
   "id": "9f7e484c",
   "metadata": {
    "ExecuteTime": {
     "end_time": "2024-10-26T20:33:49.007851Z",
     "start_time": "2024-10-26T20:33:48.983939Z"
    },
    "execution": {
     "iopub.execute_input": "2024-10-15T15:26:54.092347Z",
     "iopub.status.busy": "2024-10-15T15:26:54.091899Z",
     "iopub.status.idle": "2024-10-15T15:26:55.607261Z",
     "shell.execute_reply": "2024-10-15T15:26:55.605986Z"
    },
    "papermill": {
     "duration": 1.53009,
     "end_time": "2024-10-15T15:26:55.610346",
     "exception": false,
     "start_time": "2024-10-15T15:26:54.080256",
     "status": "completed"
    },
    "tags": []
   },
   "outputs": [],
   "source": [
    "from sklearn.model_selection import train_test_split"
   ]
  },
  {
   "cell_type": "code",
   "execution_count": 71,
   "id": "156dad09",
   "metadata": {
    "ExecuteTime": {
     "end_time": "2024-10-26T20:33:52.486965Z",
     "start_time": "2024-10-26T20:33:52.422552Z"
    },
    "execution": {
     "iopub.execute_input": "2024-10-15T15:26:55.633139Z",
     "iopub.status.busy": "2024-10-15T15:26:55.632502Z",
     "iopub.status.idle": "2024-10-15T15:26:55.644507Z",
     "shell.execute_reply": "2024-10-15T15:26:55.643272Z"
    },
    "papermill": {
     "duration": 0.026517,
     "end_time": "2024-10-15T15:26:55.647308",
     "exception": false,
     "start_time": "2024-10-15T15:26:55.620791",
     "status": "completed"
    },
    "tags": []
   },
   "outputs": [],
   "source": [
    "import pickle\n",
    "with open(\"dataset/fine_label_names.pck\", \"rb\") as f:\n",
    "    labels_fine = pickle.load(f)\n",
    "with open(\"dataset/coarse_label_names.pck\", \"rb\") as f:\n",
    "    labels_coarse = pickle.load(f)"
   ]
  },
  {
   "cell_type": "code",
   "execution_count": 72,
   "id": "f6dd8192",
   "metadata": {},
   "outputs": [],
   "source": [
    "y_train = np.vstack([y_train_fine, y_train_coarse]).T"
   ]
  },
  {
   "cell_type": "code",
   "execution_count": 73,
   "id": "391ccb46",
   "metadata": {},
   "outputs": [
    {
     "data": {
      "text/plain": [
       "(50000, 2)"
      ]
     },
     "execution_count": 73,
     "metadata": {},
     "output_type": "execute_result"
    }
   ],
   "source": [
    "y_train.shape"
   ]
  },
  {
   "cell_type": "code",
   "execution_count": 74,
   "id": "02124c54",
   "metadata": {},
   "outputs": [
    {
     "data": {
      "text/plain": [
       "(50000, 32, 32, 3)"
      ]
     },
     "execution_count": 74,
     "metadata": {},
     "output_type": "execute_result"
    }
   ],
   "source": [
    "x_train.shape"
   ]
  },
  {
   "cell_type": "code",
   "execution_count": 75,
   "id": "93060b08",
   "metadata": {
    "ExecuteTime": {
     "end_time": "2024-10-26T20:33:59.135441Z",
     "start_time": "2024-10-26T20:33:54.837086Z"
    },
    "execution": {
     "iopub.execute_input": "2024-10-15T15:26:56.239728Z",
     "iopub.status.busy": "2024-10-15T15:26:56.239250Z",
     "iopub.status.idle": "2024-10-15T15:26:56.265029Z",
     "shell.execute_reply": "2024-10-15T15:26:56.263962Z"
    },
    "papermill": {
     "duration": 0.041645,
     "end_time": "2024-10-15T15:26:56.267781",
     "exception": false,
     "start_time": "2024-10-15T15:26:56.226136",
     "status": "completed"
    },
    "tags": []
   },
   "outputs": [],
   "source": [
    "x_train,x_val, y_train, y_val = train_test_split(x_train, y_train, test_size=0.1, stratify=y_train)"
   ]
  },
  {
   "cell_type": "code",
   "execution_count": 92,
   "id": "623dc35b",
   "metadata": {},
   "outputs": [
    {
     "data": {
      "text/plain": [
       "(5000, 2)"
      ]
     },
     "execution_count": 92,
     "metadata": {},
     "output_type": "execute_result"
    }
   ],
   "source": [
    "y_val.shape"
   ]
  },
  {
   "cell_type": "code",
   "execution_count": 93,
   "id": "0a6288cb",
   "metadata": {},
   "outputs": [
    {
     "data": {
      "text/plain": [
       "(5000, 32, 32, 3)"
      ]
     },
     "execution_count": 93,
     "metadata": {},
     "output_type": "execute_result"
    }
   ],
   "source": [
    "x_val.shape"
   ]
  },
  {
   "cell_type": "code",
   "execution_count": 77,
   "id": "be17c8fb",
   "metadata": {
    "ExecuteTime": {
     "end_time": "2024-10-26T20:34:02.854976Z",
     "start_time": "2024-10-26T20:34:02.397526Z"
    },
    "execution": {
     "iopub.execute_input": "2024-10-15T15:26:56.290915Z",
     "iopub.status.busy": "2024-10-15T15:26:56.289902Z",
     "iopub.status.idle": "2024-10-15T15:26:56.608359Z",
     "shell.execute_reply": "2024-10-15T15:26:56.607120Z"
    },
    "papermill": {
     "duration": 0.332705,
     "end_time": "2024-10-15T15:26:56.611000",
     "exception": false,
     "start_time": "2024-10-15T15:26:56.278295",
     "status": "completed"
    },
    "tags": []
   },
   "outputs": [
    {
     "data": {
      "image/png": "[encoded data removed]",
      "text/plain": [
       "<Figure size 500x500 with 1 Axes>"
      ]
     },
     "metadata": {},
     "output_type": "display_data"
    },
    {
     "data": {
      "image/png": "[encoded data removed]",
      "text/plain": [
       "<Figure size 640x480 with 1 Axes>"
      ]
     },
     "metadata": {},
     "output_type": "display_data"
    }
   ],
   "source": [
    "x_train_bis = x_train[:,:,::-1,:]\n",
    "ex_idx = -1\n",
    "plt.figure(figsize=(5,5))\n",
    "plt.axis('off')\n",
    "plt.imshow(x_train_bis[ex_idx])\n",
    "plt.show()\n",
    "plt.axis('off') \n",
    "plt.imshow(x_train[ex_idx])\n",
    "plt.show()"
   ]
  },
  {
   "cell_type": "code",
   "execution_count": 79,
   "id": "d1ade972",
   "metadata": {
    "ExecuteTime": {
     "end_time": "2024-10-26T20:34:28.914843Z",
     "start_time": "2024-10-26T20:34:28.906833Z"
    },
    "execution": {
     "iopub.execute_input": "2024-10-15T15:26:56.667168Z",
     "iopub.status.busy": "2024-10-15T15:26:56.666745Z",
     "iopub.status.idle": "2024-10-15T15:26:56.674331Z",
     "shell.execute_reply": "2024-10-15T15:26:56.673201Z"
    },
    "papermill": {
     "duration": 0.022765,
     "end_time": "2024-10-15T15:26:56.676884",
     "exception": false,
     "start_time": "2024-10-15T15:26:56.654119",
     "status": "completed"
    },
    "tags": []
   },
   "outputs": [
    {
     "data": {
      "text/plain": [
       "'hamster'"
      ]
     },
     "execution_count": 79,
     "metadata": {},
     "output_type": "execute_result"
    }
   ],
   "source": [
    "labels_fine[y_train[ex_idx][0]]"
   ]
  },
  {
   "cell_type": "code",
   "execution_count": 80,
   "id": "4fdaa8ed",
   "metadata": {
    "execution": {
     "iopub.execute_input": "2024-10-15T15:26:56.704231Z",
     "iopub.status.busy": "2024-10-15T15:26:56.703532Z",
     "iopub.status.idle": "2024-10-15T15:27:04.224530Z",
     "shell.execute_reply": "2024-10-15T15:27:04.223403Z"
    },
    "papermill": {
     "duration": 7.538509,
     "end_time": "2024-10-15T15:27:04.227502",
     "exception": false,
     "start_time": "2024-10-15T15:26:56.688993",
     "status": "completed"
    },
    "tags": []
   },
   "outputs": [],
   "source": [
    "x_train_dup = np.concatenate([x_train, x_train_bis],axis=0)\n",
    "y_train_dup = np.concatenate([y_train, y_train], axis=0)\n",
    "x_train_bis = x_train_dup.copy()\n",
    "x_train_bis_bis = x_train_dup.copy()\n",
    "x_train_bis[:,:,1:,:] =x_train_dup[:,:,:-1,:]\n",
    "x_train_bis_bis[:,:,:-1,:] =x_train_dup[:,:,1:,:]\n",
    "x_train_dup = np.concatenate([x_train_dup, x_train_bis, x_train_bis_bis],axis=0)\n",
    "y_train_dup = np.concatenate([y_train_dup, y_train_dup, y_train_dup], axis=0)\n"
   ]
  },
  {
   "cell_type": "code",
   "execution_count": 82,
   "id": "8e0f7ba8",
   "metadata": {
    "execution": {
     "iopub.execute_input": "2024-10-15T15:27:04.252206Z",
     "iopub.status.busy": "2024-10-15T15:27:04.251790Z",
     "iopub.status.idle": "2024-10-15T15:27:04.259910Z",
     "shell.execute_reply": "2024-10-15T15:27:04.258734Z"
    },
    "papermill": {
     "duration": 0.023482,
     "end_time": "2024-10-15T15:27:04.262420",
     "exception": false,
     "start_time": "2024-10-15T15:27:04.238938",
     "status": "completed"
    },
    "tags": []
   },
   "outputs": [
    {
     "data": {
      "text/plain": [
       "((270000, 32, 32, 3), (270000, 2))"
      ]
     },
     "execution_count": 82,
     "metadata": {},
     "output_type": "execute_result"
    }
   ],
   "source": [
    "x_train_dup.shape, y_train_dup.shape"
   ]
  },
  {
   "cell_type": "code",
   "execution_count": 83,
   "id": "87eb934b",
   "metadata": {
    "execution": {
     "iopub.execute_input": "2024-10-15T15:27:04.287174Z",
     "iopub.status.busy": "2024-10-15T15:27:04.286751Z",
     "iopub.status.idle": "2024-10-15T15:27:04.293929Z",
     "shell.execute_reply": "2024-10-15T15:27:04.292821Z"
    },
    "papermill": {
     "duration": 0.022893,
     "end_time": "2024-10-15T15:27:04.296702",
     "exception": false,
     "start_time": "2024-10-15T15:27:04.273809",
     "status": "completed"
    },
    "tags": []
   },
   "outputs": [
    {
     "name": "stdout",
     "output_type": "stream",
     "text": [
      "Grano grueso: large_natural_outdoor_scenes\n",
      "Grano fino: cloud\n",
      "Grano fino: forest\n",
      "Grano fino: mountain\n",
      "Grano fino: plain\n",
      "Grano fino: sea\n"
     ]
    }
   ],
   "source": [
    "# Me fijo para una categoría de grano grueso, cuáles son las categorías de grano fino\n",
    "coarse = 10\n",
    "print(f\"Grano grueso: {labels_coarse[coarse]}\")\n",
    "for fine in np.unique(y_train_fine[y_train_coarse == coarse]):\n",
    "    print(f\"Grano fino: {labels_fine[fine]}\")"
   ]
  },
  {
   "cell_type": "code",
   "execution_count": 84,
   "id": "894409b2",
   "metadata": {
    "execution": {
     "iopub.execute_input": "2024-10-15T15:27:04.321250Z",
     "iopub.status.busy": "2024-10-15T15:27:04.320820Z",
     "iopub.status.idle": "2024-10-15T15:27:19.323771Z",
     "shell.execute_reply": "2024-10-15T15:27:19.322465Z"
    },
    "papermill": {
     "duration": 15.018701,
     "end_time": "2024-10-15T15:27:19.326769",
     "exception": false,
     "start_time": "2024-10-15T15:27:04.308068",
     "status": "completed"
    },
    "tags": []
   },
   "outputs": [],
   "source": [
    "from tensorflow.keras.models import Sequential, Model\n",
    "from tensorflow.keras.layers import Dense, Dropout, BatchNormalization, Flatten, Conv2D, MaxPool2D, GlobalAveragePooling2D, Activation\n",
    "from tensorflow.keras.optimizers import SGD, Adam, RMSprop\n",
    "from tensorflow.keras.regularizers import l1, l2\n",
    "from tensorflow.keras.constraints import MaxNorm\n",
    "from tensorflow.keras.callbacks import ReduceLROnPlateau, EarlyStopping, ModelCheckpoint, TensorBoard\n",
    "from tensorflow.keras import layers\n",
    "from tensorflow.keras import regularizers\n",
    "from tensorflow.keras import models"
   ]
  },
  {
   "cell_type": "code",
   "execution_count": 85,
   "id": "b940ba93",
   "metadata": {},
   "outputs": [],
   "source": [
    "\n",
    "# Define model architecture\n",
    "def create_model(input_shape=(32, 32, 3), l2_lambda=0.001):\n",
    "    # Input layer for images\n",
    "    inputs = layers.Input(shape=input_shape)\n",
    "    \n",
    "    # Flattening layer\n",
    "    x = layers.Flatten()(inputs)\n",
    "    \n",
    "    # Dense layers with L2 regularization\n",
    "    #x = layers.Dense(512, activation='relu', kernel_regularizer=regularizers.l2(l2_lambda))(x)\n",
    "    x = layers.Dense(256, activation='relu', kernel_regularizer=regularizers.l2(l2_lambda))(x)\n",
    "    x = layers.Dense(128, activation='relu', kernel_regularizer=regularizers.l2(l2_lambda))(x)\n",
    "    \n",
    "    # Parallel output layers\n",
    "    fine_output = layers.Dense(100, activation='softmax', name='fine_output')(x)   # Fine-grain prediction\n",
    "    coarse_output = layers.Dense(20, activation='softmax', name='coarse_output')(x) # Coarse-grain prediction\n",
    "    \n",
    "    # Create model\n",
    "    model = models.Model(inputs=inputs, outputs=[fine_output, coarse_output])\n",
    "    \n",
    "    return model\n",
    "\n"
   ]
  },
  {
   "cell_type": "code",
   "execution_count": 89,
   "id": "2001cd0b",
   "metadata": {},
   "outputs": [
    {
     "data": {
      "text/html": [
       "<pre style=\"white-space:pre;overflow-x:auto;line-height:normal;font-family:Menlo,'DejaVu Sans Mono',consolas,'Courier New',monospace\"><span style=\"font-weight: bold\">Model: \"functional_5\"</span>\n",
       "</pre>\n"
      ],
      "text/plain": [
       "\u001b[1mModel: \"functional_5\"\u001b[0m\n"
      ]
     },
     "metadata": {},
     "output_type": "display_data"
    },
    {
     "data": {
      "text/html": [
       "<pre style=\"white-space:pre;overflow-x:auto;line-height:normal;font-family:Menlo,'DejaVu Sans Mono',consolas,'Courier New',monospace\">┏━━━━━━━━━━━━━━━━━━━━━┳━━━━━━━━━━━━━━━━━━━┳━━━━━━━━━━━━┳━━━━━━━━━━━━━━━━━━━┓\n",
       "┃<span style=\"font-weight: bold\"> Layer (type)        </span>┃<span style=\"font-weight: bold\"> Output Shape      </span>┃<span style=\"font-weight: bold\">    Param # </span>┃<span style=\"font-weight: bold\"> Connected to      </span>┃\n",
       "┡━━━━━━━━━━━━━━━━━━━━━╇━━━━━━━━━━━━━━━━━━━╇━━━━━━━━━━━━╇━━━━━━━━━━━━━━━━━━━┩\n",
       "│ input_layer_5       │ (<span style=\"color: #00d7ff; text-decoration-color: #00d7ff\">None</span>, <span style=\"color: #00af00; text-decoration-color: #00af00\">32</span>, <span style=\"color: #00af00; text-decoration-color: #00af00\">32</span>, <span style=\"color: #00af00; text-decoration-color: #00af00\">3</span>) │          <span style=\"color: #00af00; text-decoration-color: #00af00\">0</span> │ -                 │\n",
       "│ (<span style=\"color: #0087ff; text-decoration-color: #0087ff\">InputLayer</span>)        │                   │            │                   │\n",
       "├─────────────────────┼───────────────────┼────────────┼───────────────────┤\n",
       "│ flatten_5 (<span style=\"color: #0087ff; text-decoration-color: #0087ff\">Flatten</span>) │ (<span style=\"color: #00d7ff; text-decoration-color: #00d7ff\">None</span>, <span style=\"color: #00af00; text-decoration-color: #00af00\">3072</span>)      │          <span style=\"color: #00af00; text-decoration-color: #00af00\">0</span> │ input_layer_5[<span style=\"color: #00af00; text-decoration-color: #00af00\">0</span>]… │\n",
       "├─────────────────────┼───────────────────┼────────────┼───────────────────┤\n",
       "│ dense_8 (<span style=\"color: #0087ff; text-decoration-color: #0087ff\">Dense</span>)     │ (<span style=\"color: #00d7ff; text-decoration-color: #00d7ff\">None</span>, <span style=\"color: #00af00; text-decoration-color: #00af00\">256</span>)       │    <span style=\"color: #00af00; text-decoration-color: #00af00\">786,688</span> │ flatten_5[<span style=\"color: #00af00; text-decoration-color: #00af00\">0</span>][<span style=\"color: #00af00; text-decoration-color: #00af00\">0</span>]   │\n",
       "├─────────────────────┼───────────────────┼────────────┼───────────────────┤\n",
       "│ dense_9 (<span style=\"color: #0087ff; text-decoration-color: #0087ff\">Dense</span>)     │ (<span style=\"color: #00d7ff; text-decoration-color: #00d7ff\">None</span>, <span style=\"color: #00af00; text-decoration-color: #00af00\">128</span>)       │     <span style=\"color: #00af00; text-decoration-color: #00af00\">32,896</span> │ dense_8[<span style=\"color: #00af00; text-decoration-color: #00af00\">0</span>][<span style=\"color: #00af00; text-decoration-color: #00af00\">0</span>]     │\n",
       "├─────────────────────┼───────────────────┼────────────┼───────────────────┤\n",
       "│ fine_output (<span style=\"color: #0087ff; text-decoration-color: #0087ff\">Dense</span>) │ (<span style=\"color: #00d7ff; text-decoration-color: #00d7ff\">None</span>, <span style=\"color: #00af00; text-decoration-color: #00af00\">100</span>)       │     <span style=\"color: #00af00; text-decoration-color: #00af00\">12,900</span> │ dense_9[<span style=\"color: #00af00; text-decoration-color: #00af00\">0</span>][<span style=\"color: #00af00; text-decoration-color: #00af00\">0</span>]     │\n",
       "├─────────────────────┼───────────────────┼────────────┼───────────────────┤\n",
       "│ coarse_output       │ (<span style=\"color: #00d7ff; text-decoration-color: #00d7ff\">None</span>, <span style=\"color: #00af00; text-decoration-color: #00af00\">20</span>)        │      <span style=\"color: #00af00; text-decoration-color: #00af00\">2,580</span> │ dense_9[<span style=\"color: #00af00; text-decoration-color: #00af00\">0</span>][<span style=\"color: #00af00; text-decoration-color: #00af00\">0</span>]     │\n",
       "│ (<span style=\"color: #0087ff; text-decoration-color: #0087ff\">Dense</span>)             │                   │            │                   │\n",
       "└─────────────────────┴───────────────────┴────────────┴───────────────────┘\n",
       "</pre>\n"
      ],
      "text/plain": [
       "┏━━━━━━━━━━━━━━━━━━━━━┳━━━━━━━━━━━━━━━━━━━┳━━━━━━━━━━━━┳━━━━━━━━━━━━━━━━━━━┓\n",
       "┃\u001b[1m \u001b[0m\u001b[1mLayer (type)       \u001b[0m\u001b[1m \u001b[0m┃\u001b[1m \u001b[0m\u001b[1mOutput Shape     \u001b[0m\u001b[1m \u001b[0m┃\u001b[1m \u001b[0m\u001b[1m   Param #\u001b[0m\u001b[1m \u001b[0m┃\u001b[1m \u001b[0m\u001b[1mConnected to     \u001b[0m\u001b[1m \u001b[0m┃\n",
       "┡━━━━━━━━━━━━━━━━━━━━━╇━━━━━━━━━━━━━━━━━━━╇━━━━━━━━━━━━╇━━━━━━━━━━━━━━━━━━━┩\n",
       "│ input_layer_5       │ (\u001b[38;5;45mNone\u001b[0m, \u001b[38;5;34m32\u001b[0m, \u001b[38;5;34m32\u001b[0m, \u001b[38;5;34m3\u001b[0m) │          \u001b[38;5;34m0\u001b[0m │ -                 │\n",
       "│ (\u001b[38;5;33mInputLayer\u001b[0m)        │                   │            │                   │\n",
       "├─────────────────────┼───────────────────┼────────────┼───────────────────┤\n",
       "│ flatten_5 (\u001b[38;5;33mFlatten\u001b[0m) │ (\u001b[38;5;45mNone\u001b[0m, \u001b[38;5;34m3072\u001b[0m)      │          \u001b[38;5;34m0\u001b[0m │ input_layer_5[\u001b[38;5;34m0\u001b[0m]… │\n",
       "├─────────────────────┼───────────────────┼────────────┼───────────────────┤\n",
       "│ dense_8 (\u001b[38;5;33mDense\u001b[0m)     │ (\u001b[38;5;45mNone\u001b[0m, \u001b[38;5;34m256\u001b[0m)       │    \u001b[38;5;34m786,688\u001b[0m │ flatten_5[\u001b[38;5;34m0\u001b[0m][\u001b[38;5;34m0\u001b[0m]   │\n",
       "├─────────────────────┼───────────────────┼────────────┼───────────────────┤\n",
       "│ dense_9 (\u001b[38;5;33mDense\u001b[0m)     │ (\u001b[38;5;45mNone\u001b[0m, \u001b[38;5;34m128\u001b[0m)       │     \u001b[38;5;34m32,896\u001b[0m │ dense_8[\u001b[38;5;34m0\u001b[0m][\u001b[38;5;34m0\u001b[0m]     │\n",
       "├─────────────────────┼───────────────────┼────────────┼───────────────────┤\n",
       "│ fine_output (\u001b[38;5;33mDense\u001b[0m) │ (\u001b[38;5;45mNone\u001b[0m, \u001b[38;5;34m100\u001b[0m)       │     \u001b[38;5;34m12,900\u001b[0m │ dense_9[\u001b[38;5;34m0\u001b[0m][\u001b[38;5;34m0\u001b[0m]     │\n",
       "├─────────────────────┼───────────────────┼────────────┼───────────────────┤\n",
       "│ coarse_output       │ (\u001b[38;5;45mNone\u001b[0m, \u001b[38;5;34m20\u001b[0m)        │      \u001b[38;5;34m2,580\u001b[0m │ dense_9[\u001b[38;5;34m0\u001b[0m][\u001b[38;5;34m0\u001b[0m]     │\n",
       "│ (\u001b[38;5;33mDense\u001b[0m)             │                   │            │                   │\n",
       "└─────────────────────┴───────────────────┴────────────┴───────────────────┘\n"
      ]
     },
     "metadata": {},
     "output_type": "display_data"
    },
    {
     "data": {
      "text/html": [
       "<pre style=\"white-space:pre;overflow-x:auto;line-height:normal;font-family:Menlo,'DejaVu Sans Mono',consolas,'Courier New',monospace\"><span style=\"font-weight: bold\"> Total params: </span><span style=\"color: #00af00; text-decoration-color: #00af00\">835,064</span> (3.19 MB)\n",
       "</pre>\n"
      ],
      "text/plain": [
       "\u001b[1m Total params: \u001b[0m\u001b[38;5;34m835,064\u001b[0m (3.19 MB)\n"
      ]
     },
     "metadata": {},
     "output_type": "display_data"
    },
    {
     "data": {
      "text/html": [
       "<pre style=\"white-space:pre;overflow-x:auto;line-height:normal;font-family:Menlo,'DejaVu Sans Mono',consolas,'Courier New',monospace\"><span style=\"font-weight: bold\"> Trainable params: </span><span style=\"color: #00af00; text-decoration-color: #00af00\">835,064</span> (3.19 MB)\n",
       "</pre>\n"
      ],
      "text/plain": [
       "\u001b[1m Trainable params: \u001b[0m\u001b[38;5;34m835,064\u001b[0m (3.19 MB)\n"
      ]
     },
     "metadata": {},
     "output_type": "display_data"
    },
    {
     "data": {
      "text/html": [
       "<pre style=\"white-space:pre;overflow-x:auto;line-height:normal;font-family:Menlo,'DejaVu Sans Mono',consolas,'Courier New',monospace\"><span style=\"font-weight: bold\"> Non-trainable params: </span><span style=\"color: #00af00; text-decoration-color: #00af00\">0</span> (0.00 B)\n",
       "</pre>\n"
      ],
      "text/plain": [
       "\u001b[1m Non-trainable params: \u001b[0m\u001b[38;5;34m0\u001b[0m (0.00 B)\n"
      ]
     },
     "metadata": {},
     "output_type": "display_data"
    }
   ],
   "source": [
    "# Instantiate the model\n",
    "model = create_model()\n",
    "\n",
    "# Compile the model\n",
    "model.compile(\n",
    "    optimizer='adam',\n",
    "    loss={\n",
    "        'fine_output': 'sparse_categorical_crossentropy', \n",
    "        'coarse_output': 'sparse_categorical_crossentropy'\n",
    "    },\n",
    "    metrics=['accuracy','accuracy']\n",
    ")\n",
    "\n",
    "# Early stopping callback\n",
    "early_stopping = EarlyStopping(monitor='val_loss', patience=5, restore_best_weights=True,verbose= 1)\n",
    "\n",
    "rlrop = ReduceLROnPlateau(\n",
    "    monitor = \"val_accuracy\",\n",
    "    factor = 0.5,\n",
    "    patience = 3,\n",
    "    verbose = 1,\n",
    "    min_lr = 1e-5\n",
    ")\n",
    "tb = TensorBoard(\n",
    "    log_dir=\"logs\",\n",
    ")\n",
    "# Display the model summary\n",
    "model.summary()\n"
   ]
  },
  {
   "cell_type": "code",
   "execution_count": 94,
   "id": "0d780e0e",
   "metadata": {},
   "outputs": [
    {
     "name": "stdout",
     "output_type": "stream",
     "text": [
      "Epoch 1/2\n",
      "\u001b[1m8438/8438\u001b[0m \u001b[32m━━━━━━━━━━━━━━━━━━━━\u001b[0m\u001b[37m\u001b[0m \u001b[1m63s\u001b[0m 7ms/step - coarse_output_accuracy: 0.0135 - coarse_output_loss: 2.2260 - fine_output_accuracy: 0.0136 - fine_output_loss: 3.3601 - loss: 5.7158 - val_coarse_output_accuracy: 0.0142 - val_coarse_output_loss: 2.2050 - val_fine_output_accuracy: 0.0094 - val_fine_output_loss: 3.3522 - val_loss: 5.7111\n",
      "Epoch 2/2\n",
      "\u001b[1m8438/8438\u001b[0m \u001b[32m━━━━━━━━━━━━━━━━━━━━\u001b[0m\u001b[37m\u001b[0m \u001b[1m60s\u001b[0m 7ms/step - coarse_output_accuracy: 0.0134 - coarse_output_loss: 2.1802 - fine_output_accuracy: 0.0131 - fine_output_loss: 3.2549 - loss: 5.5808 - val_coarse_output_accuracy: 0.0110 - val_coarse_output_loss: 2.1950 - val_fine_output_accuracy: 0.0092 - val_fine_output_loss: 3.3482 - val_loss: 5.6994\n",
      "Restoring model weights from the end of the best epoch: 2.\n"
     ]
    }
   ],
   "source": [
    "# Fit the model\n",
    "history = model.fit(\n",
    "    x=x_train_dup,                          # Input data (images)\n",
    "    y={'fine_output': y_train_dup[:,1],     # Fine labels target output\n",
    "       'coarse_output': y_train_dup[:,0]},# Coarse labels target output\n",
    "    validation_data=(x_val, {'fine_output': y_val[:,1], 'coarse_output': y_val[:,0]}),\n",
    "    epochs=50,                          # Set your number of epochs\n",
    "    batch_size=32,                      # Batch size (tune as needed)\n",
    "    callbacks=[tb, early_stopping]      # TensorBoard and early stopping callbacks\n",
    ")"
   ]
  },
  {
   "cell_type": "markdown",
   "id": "2279e827",
   "metadata": {},
   "source": [
    "-------------------------------------------------\n"
   ]
  }
 ],
 "metadata": {
  "kaggle": {
   "accelerator": "none",
   "dataSources": [
    {
     "databundleVersionId": 9468663,
     "sourceId": 84511,
     "sourceType": "competition"
    }
   ],
   "dockerImageVersionId": 30786,
   "isGpuEnabled": false,
   "isInternetEnabled": true,
   "language": "python",
   "sourceType": "notebook"
  },
  "kernelspec": {
   "display_name": "redes",
   "language": "python",
   "name": "python3"
  },
  "language_info": {
   "codemirror_mode": {
    "name": "ipython",
    "version": 3
   },
   "file_extension": ".py",
   "mimetype": "text/x-python",
   "name": "python",
   "nbconvert_exporter": "python",
   "pygments_lexer": "ipython3",
   "version": "3.11.9"
  },
  "papermill": {
   "default_parameters": {},
   "duration": 63.493886,
   "end_time": "2024-10-15T15:27:51.038846",
   "environment_variables": {},
   "exception": null,
   "input_path": "__notebook__.ipynb",
   "output_path": "__notebook__.ipynb",
   "parameters": {},
   "start_time": "2024-10-15T15:26:47.544960",
   "version": "2.6.0"
  }
 },
 "nbformat": 4,
 "nbformat_minor": 5
}
