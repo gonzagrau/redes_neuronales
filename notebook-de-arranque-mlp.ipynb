{
 "cells": [
  {
   "cell_type": "code",
   "id": "3d533d89",
   "metadata": {
    "_cell_guid": "b1076dfc-b9ad-4769-8c92-a6c4dae69d19",
    "_uuid": "8f2839f25d086af736a60e9eeb907d3b93b6e0e5",
    "execution": {
     "iopub.execute_input": "2024-10-15T15:26:50.700230Z",
     "iopub.status.busy": "2024-10-15T15:26:50.699767Z",
     "iopub.status.idle": "2024-10-15T15:26:51.650956Z",
     "shell.execute_reply": "2024-10-15T15:26:51.649511Z"
    },
    "papermill": {
     "duration": 0.966766,
     "end_time": "2024-10-15T15:26:51.653774",
     "exception": false,
     "start_time": "2024-10-15T15:26:50.687008",
     "status": "completed"
    },
    "tags": [],
    "ExecuteTime": {
     "end_time": "2024-10-26T20:33:38.315825Z",
     "start_time": "2024-10-26T20:33:36.575260Z"
    }
   },
   "source": [
    "import numpy as np # linear algebra\n",
    "import pandas as pd # data processing, CSV file I/O (e.g. pd.read_csv)\n",
    "from matplotlib import pyplot as plt\n",
    "%load_ext tensorboard"
   ],
   "outputs": [],
   "execution_count": 8
  },
  {
   "cell_type": "code",
   "id": "6df7d172",
   "metadata": {
    "execution": {
     "iopub.execute_input": "2024-10-15T15:26:51.676585Z",
     "iopub.status.busy": "2024-10-15T15:26:51.675939Z",
     "iopub.status.idle": "2024-10-15T15:26:54.066513Z",
     "shell.execute_reply": "2024-10-15T15:26:54.065414Z"
    },
    "papermill": {
     "duration": 2.40501,
     "end_time": "2024-10-15T15:26:54.069360",
     "exception": false,
     "start_time": "2024-10-15T15:26:51.664350",
     "status": "completed"
    },
    "tags": [],
    "ExecuteTime": {
     "end_time": "2024-10-26T20:33:46.112736Z",
     "start_time": "2024-10-26T20:33:41.644230Z"
    }
   },
   "source": [
    "x_train = np.load(\"dataset/x_train.npy\")/255.\n",
    "x_test = np.load(\"dataset/x_test.npy\")/255.\n",
    "y_train_coarse = np.load(\"dataset/y_train_coarse.npy\")\n",
    "y_train_fine = np.load(\"dataset/y_train_fine.npy\")"
   ],
   "outputs": [],
   "execution_count": 9
  },
  {
   "cell_type": "code",
   "id": "9f7e484c",
   "metadata": {
    "execution": {
     "iopub.execute_input": "2024-10-15T15:26:54.092347Z",
     "iopub.status.busy": "2024-10-15T15:26:54.091899Z",
     "iopub.status.idle": "2024-10-15T15:26:55.607261Z",
     "shell.execute_reply": "2024-10-15T15:26:55.605986Z"
    },
    "papermill": {
     "duration": 1.53009,
     "end_time": "2024-10-15T15:26:55.610346",
     "exception": false,
     "start_time": "2024-10-15T15:26:54.080256",
     "status": "completed"
    },
    "tags": [],
    "ExecuteTime": {
     "end_time": "2024-10-26T20:33:49.007851Z",
     "start_time": "2024-10-26T20:33:48.983939Z"
    }
   },
   "source": [
    "from sklearn.model_selection import train_test_split"
   ],
   "outputs": [],
   "execution_count": 10
  },
  {
   "cell_type": "code",
   "id": "156dad09",
   "metadata": {
    "execution": {
     "iopub.execute_input": "2024-10-15T15:26:55.633139Z",
     "iopub.status.busy": "2024-10-15T15:26:55.632502Z",
     "iopub.status.idle": "2024-10-15T15:26:55.644507Z",
     "shell.execute_reply": "2024-10-15T15:26:55.643272Z"
    },
    "papermill": {
     "duration": 0.026517,
     "end_time": "2024-10-15T15:26:55.647308",
     "exception": false,
     "start_time": "2024-10-15T15:26:55.620791",
     "status": "completed"
    },
    "tags": [],
    "ExecuteTime": {
     "end_time": "2024-10-26T20:33:52.486965Z",
     "start_time": "2024-10-26T20:33:52.422552Z"
    }
   },
   "source": [
    "import pickle\n",
    "with open(\"dataset/fine_label_names.pck\", \"rb\") as f:\n",
    "    labels_fine = pickle.load(f)\n",
    "with open(\"dataset/coarse_label_names.pck\", \"rb\") as f:\n",
    "    labels_coarse = pickle.load(f)"
   ],
   "outputs": [],
   "execution_count": 11
  },
  {
   "cell_type": "code",
   "id": "93060b08",
   "metadata": {
    "execution": {
     "iopub.execute_input": "2024-10-15T15:26:56.239728Z",
     "iopub.status.busy": "2024-10-15T15:26:56.239250Z",
     "iopub.status.idle": "2024-10-15T15:26:56.265029Z",
     "shell.execute_reply": "2024-10-15T15:26:56.263962Z"
    },
    "papermill": {
     "duration": 0.041645,
     "end_time": "2024-10-15T15:26:56.267781",
     "exception": false,
     "start_time": "2024-10-15T15:26:56.226136",
     "status": "completed"
    },
    "tags": [],
    "ExecuteTime": {
     "end_time": "2024-10-26T20:33:59.135441Z",
     "start_time": "2024-10-26T20:33:54.837086Z"
    }
   },
   "source": "x_train,x_val, y_train, y_val = train_test_split(x_train, y_train_fine, test_size=0.1, stratify=y_train_fine)",
   "outputs": [],
   "execution_count": 12
  },
  {
   "cell_type": "code",
   "id": "be17c8fb",
   "metadata": {
    "execution": {
     "iopub.execute_input": "2024-10-15T15:26:56.290915Z",
     "iopub.status.busy": "2024-10-15T15:26:56.289902Z",
     "iopub.status.idle": "2024-10-15T15:26:56.608359Z",
     "shell.execute_reply": "2024-10-15T15:26:56.607120Z"
    },
    "papermill": {
     "duration": 0.332705,
     "end_time": "2024-10-15T15:26:56.611000",
     "exception": false,
     "start_time": "2024-10-15T15:26:56.278295",
     "status": "completed"
    },
    "tags": [],
    "ExecuteTime": {
     "end_time": "2024-10-26T20:34:02.854976Z",
     "start_time": "2024-10-26T20:34:02.397526Z"
    }
   },
   "source": [
    "x_train_bis = x_train[:,:,::-1,:]\n",
    "ex_idx = -1\n",
    "plt.figure(figsize=(5,5))\n",
    "plt.axis('off')\n",
    "plt.imshow(x_train_bis[ex_idx])\n",
    "plt.show()\n",
    "plt.axis('off') \n",
    "plt.imshow(x_train[ex_idx])\n",
    "plt.show()"
   ],
   "outputs": [
    {
     "data": {
      "text/plain": [
       "<Figure size 500x500 with 1 Axes>"
      ],
      "image/png": "[encoded data removed]"
     },
     "metadata": {},
     "output_type": "display_data"
    },
    {
     "data": {
      "text/plain": [
       "<Figure size 640x480 with 1 Axes>"
      ],
      "image/png": "[encoded data removed]"
     },
     "metadata": {},
     "output_type": "display_data"
    }
   ],
   "execution_count": 13
  },
  {
   "cell_type": "code",
   "id": "d1ade972",
   "metadata": {
    "execution": {
     "iopub.execute_input": "2024-10-15T15:26:56.667168Z",
     "iopub.status.busy": "2024-10-15T15:26:56.666745Z",
     "iopub.status.idle": "2024-10-15T15:26:56.674331Z",
     "shell.execute_reply": "2024-10-15T15:26:56.673201Z"
    },
    "papermill": {
     "duration": 0.022765,
     "end_time": "2024-10-15T15:26:56.676884",
     "exception": false,
     "start_time": "2024-10-15T15:26:56.654119",
     "status": "completed"
    },
    "tags": [],
    "ExecuteTime": {
     "end_time": "2024-10-26T20:34:28.914843Z",
     "start_time": "2024-10-26T20:34:28.906833Z"
    }
   },
   "source": [
    "labels_fine[y_train[ex_idx]]"
   ],
   "outputs": [
    {
     "data": {
      "text/plain": [
       "'streetcar'"
      ]
     },
     "execution_count": 15,
     "metadata": {},
     "output_type": "execute_result"
    }
   ],
   "execution_count": 15
  },
  {
   "cell_type": "code",
   "execution_count": 10,
   "id": "4fdaa8ed",
   "metadata": {
    "execution": {
     "iopub.execute_input": "2024-10-15T15:26:56.704231Z",
     "iopub.status.busy": "2024-10-15T15:26:56.703532Z",
     "iopub.status.idle": "2024-10-15T15:27:04.224530Z",
     "shell.execute_reply": "2024-10-15T15:27:04.223403Z"
    },
    "papermill": {
     "duration": 7.538509,
     "end_time": "2024-10-15T15:27:04.227502",
     "exception": false,
     "start_time": "2024-10-15T15:26:56.688993",
     "status": "completed"
    },
    "tags": []
   },
   "outputs": [],
   "source": [
    "x_train_dup = np.concatenate([x_train, x_train_bis],axis=0)\n",
    "y_train_dup = np.concatenate([y_train, y_train], axis=0)\n",
    "x_train_bis = x_train_dup.copy()\n",
    "x_train_bis_bis = x_train_dup.copy()\n",
    "x_train_bis[:,:,1:,:] =x_train_dup[:,:,:-1,:]\n",
    "x_train_bis_bis[:,:,:-1,:] =x_train_dup[:,:,1:,:]\n",
    "x_train_dup = np.concatenate([x_train_dup, x_train_bis, x_train_bis_bis],axis=0)\n",
    "y_train_dup = np.concatenate([y_train_dup, y_train_dup, y_train_dup], axis=0)\n"
   ]
  },
  {
   "cell_type": "code",
   "execution_count": 11,
   "id": "8e0f7ba8",
   "metadata": {
    "execution": {
     "iopub.execute_input": "2024-10-15T15:27:04.252206Z",
     "iopub.status.busy": "2024-10-15T15:27:04.251790Z",
     "iopub.status.idle": "2024-10-15T15:27:04.259910Z",
     "shell.execute_reply": "2024-10-15T15:27:04.258734Z"
    },
    "papermill": {
     "duration": 0.023482,
     "end_time": "2024-10-15T15:27:04.262420",
     "exception": false,
     "start_time": "2024-10-15T15:27:04.238938",
     "status": "completed"
    },
    "tags": []
   },
   "outputs": [
    {
     "data": {
      "text/plain": [
       "((270000, 32, 32, 3), (270000,))"
      ]
     },
     "execution_count": 11,
     "metadata": {},
     "output_type": "execute_result"
    }
   ],
   "source": [
    "x_train_dup.shape, y_train_dup.shape"
   ]
  },
  {
   "cell_type": "code",
   "execution_count": 12,
   "id": "87eb934b",
   "metadata": {
    "execution": {
     "iopub.execute_input": "2024-10-15T15:27:04.287174Z",
     "iopub.status.busy": "2024-10-15T15:27:04.286751Z",
     "iopub.status.idle": "2024-10-15T15:27:04.293929Z",
     "shell.execute_reply": "2024-10-15T15:27:04.292821Z"
    },
    "papermill": {
     "duration": 0.022893,
     "end_time": "2024-10-15T15:27:04.296702",
     "exception": false,
     "start_time": "2024-10-15T15:27:04.273809",
     "status": "completed"
    },
    "tags": []
   },
   "outputs": [
    {
     "name": "stdout",
     "output_type": "stream",
     "text": [
      "Grano grueso: large_natural_outdoor_scenes\n",
      "Grano fino: cloud\n",
      "Grano fino: forest\n",
      "Grano fino: mountain\n",
      "Grano fino: plain\n",
      "Grano fino: sea\n"
     ]
    }
   ],
   "source": [
    "# Me fijo para una categoría de grano grueso, cuáles son las categorías de grano fino\n",
    "coarse = 10\n",
    "print(f\"Grano grueso: {labels_coarse[coarse]}\")\n",
    "for fine in np.unique(y_train_fine[y_train_coarse == coarse]):\n",
    "    print(f\"Grano fino: {labels_fine[fine]}\")"
   ]
  },
  {
   "cell_type": "code",
   "execution_count": 13,
   "id": "894409b2",
   "metadata": {
    "execution": {
     "iopub.execute_input": "2024-10-15T15:27:04.321250Z",
     "iopub.status.busy": "2024-10-15T15:27:04.320820Z",
     "iopub.status.idle": "2024-10-15T15:27:19.323771Z",
     "shell.execute_reply": "2024-10-15T15:27:19.322465Z"
    },
    "papermill": {
     "duration": 15.018701,
     "end_time": "2024-10-15T15:27:19.326769",
     "exception": false,
     "start_time": "2024-10-15T15:27:04.308068",
     "status": "completed"
    },
    "tags": []
   },
   "outputs": [],
   "source": [
    "from tensorflow.keras.models import Sequential, Model\n",
    "from tensorflow.keras.layers import Dense, Dropout, BatchNormalization, Flatten, Conv2D, MaxPool2D, GlobalAveragePooling2D, Activation\n",
    "from tensorflow.keras.optimizers import SGD, Adam, RMSprop\n",
    "from tensorflow.keras.regularizers import l1, l2\n",
    "from tensorflow.keras.constraints import MaxNorm\n",
    "from tensorflow.keras.callbacks import ReduceLROnPlateau, EarlyStopping, ModelCheckpoint, TensorBoard"
   ]
  },
  {
   "cell_type": "code",
   "execution_count": 14,
   "id": "8e03d20d",
   "metadata": {
    "execution": {
     "iopub.execute_input": "2024-10-15T15:27:19.352663Z",
     "iopub.status.busy": "2024-10-15T15:27:19.351399Z",
     "iopub.status.idle": "2024-10-15T15:27:19.450991Z",
     "shell.execute_reply": "2024-10-15T15:27:19.449787Z"
    },
    "papermill": {
     "duration": 0.11572,
     "end_time": "2024-10-15T15:27:19.454247",
     "exception": false,
     "start_time": "2024-10-15T15:27:19.338527",
     "status": "completed"
    },
    "tags": []
   },
   "outputs": [
    {
     "name": "stderr",
     "output_type": "stream",
     "text": [
      "/opt/conda/lib/python3.10/site-packages/keras/src/layers/reshaping/flatten.py:37: UserWarning: Do not pass an `input_shape`/`input_dim` argument to a layer. When using Sequential models, prefer using an `Input(shape)` object as the first layer in the model instead.\n",
      "  super().__init__(**kwargs)\n"
     ]
    }
   ],
   "source": [
    "model = Sequential()\n",
    "model.add(Flatten(input_shape=(32,32,3)))\n",
    "#model.add(Dense(10000, activation=\"relu\"))\n",
    "model.add(Dense(100, activation=\"softmax\"))\n",
    "model.compile(loss=\"sparse_categorical_crossentropy\", metrics = [\"accuracy\"], optimizer = Adam(learning_rate=0.001))"
   ]
  },
  {
   "cell_type": "code",
   "execution_count": 15,
   "id": "51d42269",
   "metadata": {
    "execution": {
     "iopub.execute_input": "2024-10-15T15:27:19.480718Z",
     "iopub.status.busy": "2024-10-15T15:27:19.479590Z",
     "iopub.status.idle": "2024-10-15T15:27:19.502726Z",
     "shell.execute_reply": "2024-10-15T15:27:19.501631Z"
    },
    "papermill": {
     "duration": 0.038752,
     "end_time": "2024-10-15T15:27:19.505240",
     "exception": false,
     "start_time": "2024-10-15T15:27:19.466488",
     "status": "completed"
    },
    "tags": []
   },
   "outputs": [
    {
     "data": {
      "text/html": [
       "<pre style=\"white-space:pre;overflow-x:auto;line-height:normal;font-family:Menlo,'DejaVu Sans Mono',consolas,'Courier New',monospace\"><span style=\"font-weight: bold\">Model: \"sequential\"</span>\n",
       "</pre>\n"
      ],
      "text/plain": [
       "\u001B[1mModel: \"sequential\"\u001B[0m\n"
      ]
     },
     "metadata": {},
     "output_type": "display_data"
    },
    {
     "data": {
      "text/html": [
       "<pre style=\"white-space:pre;overflow-x:auto;line-height:normal;font-family:Menlo,'DejaVu Sans Mono',consolas,'Courier New',monospace\">┏━━━━━━━━━━━━━━━━━━━━━━━━━━━━━━━━━┳━━━━━━━━━━━━━━━━━━━━━━━━┳━━━━━━━━━━━━━━━┓\n",
       "┃<span style=\"font-weight: bold\"> Layer (type)                    </span>┃<span style=\"font-weight: bold\"> Output Shape           </span>┃<span style=\"font-weight: bold\">       Param # </span>┃\n",
       "┡━━━━━━━━━━━━━━━━━━━━━━━━━━━━━━━━━╇━━━━━━━━━━━━━━━━━━━━━━━━╇━━━━━━━━━━━━━━━┩\n",
       "│ flatten (<span style=\"color: #0087ff; text-decoration-color: #0087ff\">Flatten</span>)               │ (<span style=\"color: #00d7ff; text-decoration-color: #00d7ff\">None</span>, <span style=\"color: #00af00; text-decoration-color: #00af00\">3072</span>)           │             <span style=\"color: #00af00; text-decoration-color: #00af00\">0</span> │\n",
       "├─────────────────────────────────┼────────────────────────┼───────────────┤\n",
       "│ dense (<span style=\"color: #0087ff; text-decoration-color: #0087ff\">Dense</span>)                   │ (<span style=\"color: #00d7ff; text-decoration-color: #00d7ff\">None</span>, <span style=\"color: #00af00; text-decoration-color: #00af00\">100</span>)            │       <span style=\"color: #00af00; text-decoration-color: #00af00\">307,300</span> │\n",
       "└─────────────────────────────────┴────────────────────────┴───────────────┘\n",
       "</pre>\n"
      ],
      "text/plain": [
       "┏━━━━━━━━━━━━━━━━━━━━━━━━━━━━━━━━━┳━━━━━━━━━━━━━━━━━━━━━━━━┳━━━━━━━━━━━━━━━┓\n",
       "┃\u001B[1m \u001B[0m\u001B[1mLayer (type)                   \u001B[0m\u001B[1m \u001B[0m┃\u001B[1m \u001B[0m\u001B[1mOutput Shape          \u001B[0m\u001B[1m \u001B[0m┃\u001B[1m \u001B[0m\u001B[1m      Param #\u001B[0m\u001B[1m \u001B[0m┃\n",
       "┡━━━━━━━━━━━━━━━━━━━━━━━━━━━━━━━━━╇━━━━━━━━━━━━━━━━━━━━━━━━╇━━━━━━━━━━━━━━━┩\n",
       "│ flatten (\u001B[38;5;33mFlatten\u001B[0m)               │ (\u001B[38;5;45mNone\u001B[0m, \u001B[38;5;34m3072\u001B[0m)           │             \u001B[38;5;34m0\u001B[0m │\n",
       "├─────────────────────────────────┼────────────────────────┼───────────────┤\n",
       "│ dense (\u001B[38;5;33mDense\u001B[0m)                   │ (\u001B[38;5;45mNone\u001B[0m, \u001B[38;5;34m100\u001B[0m)            │       \u001B[38;5;34m307,300\u001B[0m │\n",
       "└─────────────────────────────────┴────────────────────────┴───────────────┘\n"
      ]
     },
     "metadata": {},
     "output_type": "display_data"
    },
    {
     "data": {
      "text/html": [
       "<pre style=\"white-space:pre;overflow-x:auto;line-height:normal;font-family:Menlo,'DejaVu Sans Mono',consolas,'Courier New',monospace\"><span style=\"font-weight: bold\"> Total params: </span><span style=\"color: #00af00; text-decoration-color: #00af00\">307,300</span> (1.17 MB)\n",
       "</pre>\n"
      ],
      "text/plain": [
       "\u001B[1m Total params: \u001B[0m\u001B[38;5;34m307,300\u001B[0m (1.17 MB)\n"
      ]
     },
     "metadata": {},
     "output_type": "display_data"
    },
    {
     "data": {
      "text/html": [
       "<pre style=\"white-space:pre;overflow-x:auto;line-height:normal;font-family:Menlo,'DejaVu Sans Mono',consolas,'Courier New',monospace\"><span style=\"font-weight: bold\"> Trainable params: </span><span style=\"color: #00af00; text-decoration-color: #00af00\">307,300</span> (1.17 MB)\n",
       "</pre>\n"
      ],
      "text/plain": [
       "\u001B[1m Trainable params: \u001B[0m\u001B[38;5;34m307,300\u001B[0m (1.17 MB)\n"
      ]
     },
     "metadata": {},
     "output_type": "display_data"
    },
    {
     "data": {
      "text/html": [
       "<pre style=\"white-space:pre;overflow-x:auto;line-height:normal;font-family:Menlo,'DejaVu Sans Mono',consolas,'Courier New',monospace\"><span style=\"font-weight: bold\"> Non-trainable params: </span><span style=\"color: #00af00; text-decoration-color: #00af00\">0</span> (0.00 B)\n",
       "</pre>\n"
      ],
      "text/plain": [
       "\u001B[1m Non-trainable params: \u001B[0m\u001B[38;5;34m0\u001B[0m (0.00 B)\n"
      ]
     },
     "metadata": {},
     "output_type": "display_data"
    }
   ],
   "source": [
    "model.summary()"
   ]
  },
  {
   "cell_type": "code",
   "execution_count": 16,
   "id": "eccea063",
   "metadata": {
    "execution": {
     "iopub.execute_input": "2024-10-15T15:27:19.532986Z",
     "iopub.status.busy": "2024-10-15T15:27:19.531654Z",
     "iopub.status.idle": "2024-10-15T15:27:19.537959Z",
     "shell.execute_reply": "2024-10-15T15:27:19.536706Z"
    },
    "papermill": {
     "duration": 0.022838,
     "end_time": "2024-10-15T15:27:19.540639",
     "exception": false,
     "start_time": "2024-10-15T15:27:19.517801",
     "status": "completed"
    },
    "tags": []
   },
   "outputs": [],
   "source": [
    "rlrop = ReduceLROnPlateau(\n",
    "    monitor = \"val_accuracy\",\n",
    "    factor = 0.5,\n",
    "    patience = 3,\n",
    "    verbose = 1,\n",
    "    min_lr = 1e-5\n",
    ")"
   ]
  },
  {
   "cell_type": "code",
   "execution_count": 17,
   "id": "fc9bcc47",
   "metadata": {
    "execution": {
     "iopub.execute_input": "2024-10-15T15:27:19.567247Z",
     "iopub.status.busy": "2024-10-15T15:27:19.566763Z",
     "iopub.status.idle": "2024-10-15T15:27:19.572928Z",
     "shell.execute_reply": "2024-10-15T15:27:19.571667Z"
    },
    "papermill": {
     "duration": 0.022548,
     "end_time": "2024-10-15T15:27:19.575666",
     "exception": false,
     "start_time": "2024-10-15T15:27:19.553118",
     "status": "completed"
    },
    "tags": []
   },
   "outputs": [],
   "source": [
    "mc = ModelCheckpoint(\n",
    "    \"best_weights.weights.h5\",\n",
    "    monitor = \"val_accuracy\",\n",
    "    verbose = 1,\n",
    "    save_best_only = True,\n",
    "    save_weights_only = True,\n",
    ")"
   ]
  },
  {
   "cell_type": "code",
   "execution_count": 18,
   "id": "015c60eb",
   "metadata": {
    "execution": {
     "iopub.execute_input": "2024-10-15T15:27:19.602297Z",
     "iopub.status.busy": "2024-10-15T15:27:19.601835Z",
     "iopub.status.idle": "2024-10-15T15:27:19.607459Z",
     "shell.execute_reply": "2024-10-15T15:27:19.606278Z"
    },
    "papermill": {
     "duration": 0.022159,
     "end_time": "2024-10-15T15:27:19.610223",
     "exception": false,
     "start_time": "2024-10-15T15:27:19.588064",
     "status": "completed"
    },
    "tags": []
   },
   "outputs": [],
   "source": [
    "es = EarlyStopping(\n",
    "    monitor = \"val_accuracy\",\n",
    "    patience = 10, \n",
    "    verbose = 1,\n",
    "    restore_best_weights = True,\n",
    ")"
   ]
  },
  {
   "cell_type": "code",
   "execution_count": 19,
   "id": "f80ad91b",
   "metadata": {
    "execution": {
     "iopub.execute_input": "2024-10-15T15:27:19.637340Z",
     "iopub.status.busy": "2024-10-15T15:27:19.636361Z",
     "iopub.status.idle": "2024-10-15T15:27:19.642153Z",
     "shell.execute_reply": "2024-10-15T15:27:19.640911Z"
    },
    "papermill": {
     "duration": 0.02207,
     "end_time": "2024-10-15T15:27:19.644693",
     "exception": false,
     "start_time": "2024-10-15T15:27:19.622623",
     "status": "completed"
    },
    "tags": []
   },
   "outputs": [],
   "source": [
    "tb = TensorBoard(\n",
    "    log_dir=\"logs\",\n",
    ")"
   ]
  },
  {
   "cell_type": "code",
   "execution_count": 20,
   "id": "46ad6d01",
   "metadata": {
    "execution": {
     "iopub.execute_input": "2024-10-15T15:27:19.672063Z",
     "iopub.status.busy": "2024-10-15T15:27:19.671040Z",
     "iopub.status.idle": "2024-10-15T15:27:22.449942Z",
     "shell.execute_reply": "2024-10-15T15:27:22.448654Z"
    },
    "papermill": {
     "duration": 2.795508,
     "end_time": "2024-10-15T15:27:22.452930",
     "exception": false,
     "start_time": "2024-10-15T15:27:19.657422",
     "status": "completed"
    },
    "tags": []
   },
   "outputs": [],
   "source": [
    "indexes = list(range(len(x_train_dup)))\n",
    "np.random.shuffle(indexes)\n",
    "x_train_dup = x_train_dup[indexes]\n",
    "y_train_dup = y_train_dup[indexes]\n"
   ]
  },
  {
   "cell_type": "code",
   "execution_count": 21,
   "id": "f78bffae",
   "metadata": {
    "execution": {
     "iopub.execute_input": "2024-10-15T15:27:22.479465Z",
     "iopub.status.busy": "2024-10-15T15:27:22.479030Z",
     "iopub.status.idle": "2024-10-15T15:27:37.462163Z",
     "shell.execute_reply": "2024-10-15T15:27:37.460911Z"
    },
    "papermill": {
     "duration": 14.999669,
     "end_time": "2024-10-15T15:27:37.464980",
     "exception": false,
     "start_time": "2024-10-15T15:27:22.465311",
     "status": "completed"
    },
    "tags": []
   },
   "outputs": [
    {
     "name": "stdout",
     "output_type": "stream",
     "text": [
      "Epoch 1/2\n",
      "\u001B[1m1400/1407\u001B[0m \u001B[32m━━━━━━━━━━━━━━━━━━━\u001B[0m\u001B[37m━\u001B[0m \u001B[1m0s\u001B[0m 4ms/step - accuracy: 0.0674 - loss: 4.6742\n",
      "Epoch 1: val_accuracy improved from -inf to 0.11260, saving model to best_weights.weights.h5\n",
      "\u001B[1m1407/1407\u001B[0m \u001B[32m━━━━━━━━━━━━━━━━━━━━\u001B[0m\u001B[37m\u001B[0m \u001B[1m8s\u001B[0m 5ms/step - accuracy: 0.0675 - loss: 4.6731 - val_accuracy: 0.1126 - val_loss: 4.3408 - learning_rate: 0.0010\n",
      "Epoch 2/2\n",
      "\u001B[1m1398/1407\u001B[0m \u001B[32m━━━━━━━━━━━━━━━━━━━\u001B[0m\u001B[37m━\u001B[0m \u001B[1m0s\u001B[0m 4ms/step - accuracy: 0.1243 - loss: 4.2123\n",
      "Epoch 2: val_accuracy improved from 0.11260 to 0.11860, saving model to best_weights.weights.h5\n",
      "\u001B[1m1407/1407\u001B[0m \u001B[32m━━━━━━━━━━━━━━━━━━━━\u001B[0m\u001B[37m\u001B[0m \u001B[1m6s\u001B[0m 5ms/step - accuracy: 0.1243 - loss: 4.2123 - val_accuracy: 0.1186 - val_loss: 4.2592 - learning_rate: 0.0010\n",
      "Restoring model weights from the end of the best epoch: 2.\n"
     ]
    }
   ],
   "source": [
    "history = model.fit(\n",
    "    x = x_train, \n",
    "    y= y_train, \n",
    "    batch_size=32, \n",
    "    epochs=2, \n",
    "    validation_data = (x_val, y_val), \n",
    "    callbacks= [\n",
    "        rlrop,\n",
    "        es,\n",
    "        mc\n",
    "    ]\n",
    ")"
   ]
  },
  {
   "cell_type": "code",
   "execution_count": 22,
   "id": "3dea9259",
   "metadata": {
    "execution": {
     "iopub.execute_input": "2024-10-15T15:27:37.539034Z",
     "iopub.status.busy": "2024-10-15T15:27:37.537662Z",
     "iopub.status.idle": "2024-10-15T15:27:38.715073Z",
     "shell.execute_reply": "2024-10-15T15:27:38.713314Z"
    },
    "papermill": {
     "duration": 1.216952,
     "end_time": "2024-10-15T15:27:38.718173",
     "exception": false,
     "start_time": "2024-10-15T15:27:37.501221",
     "status": "completed"
    },
    "tags": []
   },
   "outputs": [],
   "source": [
    "!mkdir logs"
   ]
  },
  {
   "cell_type": "code",
   "execution_count": 23,
   "id": "ed785030",
   "metadata": {
    "execution": {
     "iopub.execute_input": "2024-10-15T15:27:38.790136Z",
     "iopub.status.busy": "2024-10-15T15:27:38.789612Z",
     "iopub.status.idle": "2024-10-15T15:27:39.075770Z",
     "shell.execute_reply": "2024-10-15T15:27:39.074457Z"
    },
    "papermill": {
     "duration": 0.325218,
     "end_time": "2024-10-15T15:27:39.078307",
     "exception": false,
     "start_time": "2024-10-15T15:27:38.753089",
     "status": "completed"
    },
    "tags": []
   },
   "outputs": [
    {
     "data": {
      "text/plain": [
       "[<matplotlib.lines.Line2D at 0x7a0121dd48e0>]"
      ]
     },
     "execution_count": 23,
     "metadata": {},
     "output_type": "execute_result"
    },
    {
     "data": {
      "image/png": "[encoded data removed]",
      "text/plain": [
       "<Figure size 640x480 with 1 Axes>"
      ]
     },
     "metadata": {},
     "output_type": "display_data"
    }
   ],
   "source": [
    "plt.plot(history.history[\"loss\"])\n",
    "plt.plot(history.history[\"val_loss\"])"
   ]
  },
  {
   "cell_type": "code",
   "execution_count": 24,
   "id": "74230646",
   "metadata": {
    "execution": {
     "iopub.execute_input": "2024-10-15T15:27:39.152661Z",
     "iopub.status.busy": "2024-10-15T15:27:39.152203Z",
     "iopub.status.idle": "2024-10-15T15:27:39.444461Z",
     "shell.execute_reply": "2024-10-15T15:27:39.443198Z"
    },
    "papermill": {
     "duration": 0.332444,
     "end_time": "2024-10-15T15:27:39.447153",
     "exception": false,
     "start_time": "2024-10-15T15:27:39.114709",
     "status": "completed"
    },
    "tags": []
   },
   "outputs": [
    {
     "data": {
      "text/plain": [
       "[<matplotlib.lines.Line2D at 0x7a0123b69690>]"
      ]
     },
     "execution_count": 24,
     "metadata": {},
     "output_type": "execute_result"
    },
    {
     "data": {
      "image/png": "[encoded data removed]",
      "text/plain": [
       "<Figure size 640x480 with 1 Axes>"
      ]
     },
     "metadata": {},
     "output_type": "display_data"
    }
   ],
   "source": [
    "plt.plot(history.history[\"accuracy\"])\n",
    "plt.plot(history.history[\"val_accuracy\"])"
   ]
  },
  {
   "cell_type": "code",
   "execution_count": 25,
   "id": "ba289604",
   "metadata": {
    "execution": {
     "iopub.execute_input": "2024-10-15T15:27:39.521642Z",
     "iopub.status.busy": "2024-10-15T15:27:39.521140Z",
     "iopub.status.idle": "2024-10-15T15:27:46.546252Z",
     "shell.execute_reply": "2024-10-15T15:27:46.545033Z"
    },
    "papermill": {
     "duration": 7.065415,
     "end_time": "2024-10-15T15:27:46.548996",
     "exception": false,
     "start_time": "2024-10-15T15:27:39.483581",
     "status": "completed"
    },
    "tags": []
   },
   "outputs": [
    {
     "data": {
      "text/html": [
       "\n",
       "      <iframe id=\"tensorboard-frame-266c3fd09eb70c90\" width=\"100%\" height=\"800\" frameborder=\"0\">\n",
       "      </iframe>\n",
       "      <script>\n",
       "        (function() {\n",
       "          const frame = document.getElementById(\"tensorboard-frame-266c3fd09eb70c90\");\n",
       "          const url = new URL(\"/\", window.location);\n",
       "          const port = 6006;\n",
       "          if (port) {\n",
       "            url.port = port;\n",
       "          }\n",
       "          frame.src = url;\n",
       "        })();\n",
       "      </script>\n",
       "    "
      ],
      "text/plain": [
       "<IPython.core.display.HTML object>"
      ]
     },
     "metadata": {},
     "output_type": "display_data"
    }
   ],
   "source": [
    "%tensorboard --logdir logs"
   ]
  },
  {
   "cell_type": "code",
   "execution_count": 26,
   "id": "93e2ddcd",
   "metadata": {
    "execution": {
     "iopub.execute_input": "2024-10-15T15:27:46.623758Z",
     "iopub.status.busy": "2024-10-15T15:27:46.623279Z",
     "iopub.status.idle": "2024-10-15T15:27:47.876795Z",
     "shell.execute_reply": "2024-10-15T15:27:47.875521Z"
    },
    "papermill": {
     "duration": 1.294099,
     "end_time": "2024-10-15T15:27:47.879612",
     "exception": false,
     "start_time": "2024-10-15T15:27:46.585513",
     "status": "completed"
    },
    "tags": []
   },
   "outputs": [
    {
     "name": "stdout",
     "output_type": "stream",
     "text": [
      "\u001B[1m313/313\u001B[0m \u001B[32m━━━━━━━━━━━━━━━━━━━━\u001B[0m\u001B[37m\u001B[0m \u001B[1m1s\u001B[0m 2ms/step\n"
     ]
    }
   ],
   "source": [
    "predictions = model.predict(x_test).argmax(axis=1)"
   ]
  },
  {
   "cell_type": "code",
   "execution_count": 27,
   "id": "8e505254",
   "metadata": {
    "execution": {
     "iopub.execute_input": "2024-10-15T15:27:47.961716Z",
     "iopub.status.busy": "2024-10-15T15:27:47.961219Z",
     "iopub.status.idle": "2024-10-15T15:27:47.972212Z",
     "shell.execute_reply": "2024-10-15T15:27:47.970045Z"
    },
    "papermill": {
     "duration": 0.056355,
     "end_time": "2024-10-15T15:27:47.975872",
     "exception": false,
     "start_time": "2024-10-15T15:27:47.919517",
     "status": "completed"
    },
    "tags": []
   },
   "outputs": [],
   "source": [
    "df = pd.DataFrame(predictions, columns=[\"Label\"])"
   ]
  },
  {
   "cell_type": "code",
   "execution_count": 28,
   "id": "c276d8d0",
   "metadata": {
    "execution": {
     "iopub.execute_input": "2024-10-15T15:27:48.066734Z",
     "iopub.status.busy": "2024-10-15T15:27:48.065882Z",
     "iopub.status.idle": "2024-10-15T15:27:48.088765Z",
     "shell.execute_reply": "2024-10-15T15:27:48.087607Z"
    },
    "papermill": {
     "duration": 0.066548,
     "end_time": "2024-10-15T15:27:48.091916",
     "exception": false,
     "start_time": "2024-10-15T15:27:48.025368",
     "status": "completed"
    },
    "tags": []
   },
   "outputs": [
    {
     "data": {
      "text/html": [
       "<div>\n",
       "<style scoped>\n",
       "    .dataframe tbody tr th:only-of-type {\n",
       "        vertical-align: middle;\n",
       "    }\n",
       "\n",
       "    .dataframe tbody tr th {\n",
       "        vertical-align: top;\n",
       "    }\n",
       "\n",
       "    .dataframe thead th {\n",
       "        text-align: right;\n",
       "    }\n",
       "</style>\n",
       "<table border=\"1\" class=\"dataframe\">\n",
       "  <thead>\n",
       "    <tr style=\"text-align: right;\">\n",
       "      <th></th>\n",
       "      <th>Label</th>\n",
       "    </tr>\n",
       "  </thead>\n",
       "  <tbody>\n",
       "    <tr>\n",
       "      <th>0</th>\n",
       "      <td>11</td>\n",
       "    </tr>\n",
       "    <tr>\n",
       "      <th>1</th>\n",
       "      <td>63</td>\n",
       "    </tr>\n",
       "    <tr>\n",
       "      <th>2</th>\n",
       "      <td>57</td>\n",
       "    </tr>\n",
       "    <tr>\n",
       "      <th>3</th>\n",
       "      <td>41</td>\n",
       "    </tr>\n",
       "    <tr>\n",
       "      <th>4</th>\n",
       "      <td>11</td>\n",
       "    </tr>\n",
       "    <tr>\n",
       "      <th>...</th>\n",
       "      <td>...</td>\n",
       "    </tr>\n",
       "    <tr>\n",
       "      <th>9995</th>\n",
       "      <td>3</td>\n",
       "    </tr>\n",
       "    <tr>\n",
       "      <th>9996</th>\n",
       "      <td>63</td>\n",
       "    </tr>\n",
       "    <tr>\n",
       "      <th>9997</th>\n",
       "      <td>18</td>\n",
       "    </tr>\n",
       "    <tr>\n",
       "      <th>9998</th>\n",
       "      <td>63</td>\n",
       "    </tr>\n",
       "    <tr>\n",
       "      <th>9999</th>\n",
       "      <td>11</td>\n",
       "    </tr>\n",
       "  </tbody>\n",
       "</table>\n",
       "<p>10000 rows × 1 columns</p>\n",
       "</div>"
      ],
      "text/plain": [
       "      Label\n",
       "0        11\n",
       "1        63\n",
       "2        57\n",
       "3        41\n",
       "4        11\n",
       "...     ...\n",
       "9995      3\n",
       "9996     63\n",
       "9997     18\n",
       "9998     63\n",
       "9999     11\n",
       "\n",
       "[10000 rows x 1 columns]"
      ]
     },
     "execution_count": 28,
     "metadata": {},
     "output_type": "execute_result"
    }
   ],
   "source": [
    "df"
   ]
  },
  {
   "cell_type": "code",
   "execution_count": 29,
   "id": "57f16151",
   "metadata": {
    "execution": {
     "iopub.execute_input": "2024-10-15T15:27:48.177445Z",
     "iopub.status.busy": "2024-10-15T15:27:48.176984Z",
     "iopub.status.idle": "2024-10-15T15:27:48.183154Z",
     "shell.execute_reply": "2024-10-15T15:27:48.181805Z"
    },
    "papermill": {
     "duration": 0.049071,
     "end_time": "2024-10-15T15:27:48.185755",
     "exception": false,
     "start_time": "2024-10-15T15:27:48.136684",
     "status": "completed"
    },
    "tags": []
   },
   "outputs": [],
   "source": [
    "df.index.name = \"Id\""
   ]
  },
  {
   "cell_type": "code",
   "execution_count": 30,
   "id": "857831e0",
   "metadata": {
    "execution": {
     "iopub.execute_input": "2024-10-15T15:27:48.265891Z",
     "iopub.status.busy": "2024-10-15T15:27:48.265176Z",
     "iopub.status.idle": "2024-10-15T15:27:48.293615Z",
     "shell.execute_reply": "2024-10-15T15:27:48.292443Z"
    },
    "papermill": {
     "duration": 0.07223,
     "end_time": "2024-10-15T15:27:48.296713",
     "exception": false,
     "start_time": "2024-10-15T15:27:48.224483",
     "status": "completed"
    },
    "tags": []
   },
   "outputs": [],
   "source": [
    "df.to_csv(\"submission.csv\")"
   ]
  },
  {
   "cell_type": "code",
   "execution_count": null,
   "id": "6de674bc",
   "metadata": {
    "papermill": {
     "duration": 0.038647,
     "end_time": "2024-10-15T15:27:48.374792",
     "exception": false,
     "start_time": "2024-10-15T15:27:48.336145",
     "status": "completed"
    },
    "tags": []
   },
   "outputs": [],
   "source": []
  }
 ],
 "metadata": {
  "kaggle": {
   "accelerator": "none",
   "dataSources": [
    {
     "databundleVersionId": 9468663,
     "sourceId": 84511,
     "sourceType": "competition"
    }
   ],
   "dockerImageVersionId": 30786,
   "isGpuEnabled": false,
   "isInternetEnabled": true,
   "language": "python",
   "sourceType": "notebook"
  },
  "kernelspec": {
   "display_name": "redes",
   "language": "python",
   "name": "python3"
  },
  "language_info": {
   "codemirror_mode": {
    "name": "ipython",
    "version": 3
   },
   "file_extension": ".py",
   "mimetype": "text/x-python",
   "name": "python",
   "nbconvert_exporter": "python",
   "pygments_lexer": "ipython3",
   "version": "3.11.9"
  },
  "papermill": {
   "default_parameters": {},
   "duration": 63.493886,
   "end_time": "2024-10-15T15:27:51.038846",
   "environment_variables": {},
   "exception": null,
   "input_path": "__notebook__.ipynb",
   "output_path": "__notebook__.ipynb",
   "parameters": {},
   "start_time": "2024-10-15T15:26:47.544960",
   "version": "2.6.0"
  }
 },
 "nbformat": 4,
 "nbformat_minor": 5
}
